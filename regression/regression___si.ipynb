{
 "cells": [
  {
   "cell_type": "code",
   "execution_count": 1,
   "id": "cd5fe647",
   "metadata": {},
   "outputs": [
    {
     "name": "stdout",
     "output_type": "stream",
     "text": [
      "\n",
      "VotingRegressor (RF + XGB):\n",
      "  RMSE = 1.174\n",
      "  R²   = 0.350\n"
     ]
    },
    {
     "data": {
      "text/plain": [
       "['final_voting_model_y_si.joblib']"
      ]
     },
     "execution_count": 1,
     "metadata": {},
     "output_type": "execute_result"
    }
   ],
   "source": [
    "import os\n",
    "import sys\n",
    "import numpy as np\n",
    "import pandas as pd\n",
    "from sklearn.model_selection import KFold, cross_val_predict\n",
    "from sklearn.metrics import mean_squared_error, r2_score\n",
    "from sklearn.ensemble import RandomForestRegressor, VotingRegressor\n",
    "import xgboost as xgb\n",
    "import joblib\n",
    "\n",
    "# --- Подготовка окружения ---\n",
    "project_root = os.path.abspath(os.path.join(os.getcwd(), '..'))\n",
    "if project_root not in sys.path:\n",
    "    sys.path.append(project_root)\n",
    "\n",
    "from utils.prepare_data import load_and_prepare_data\n",
    "\n",
    "# --- Загрузка данных ---\n",
    "data = load_and_prepare_data()\n",
    "X_full = data['X']\n",
    "y = data['y_si']\n",
    "\n",
    "# --- Топ-20 признаков по SHAP (на основе предыдущего анализа) ---\n",
    "top_20_features = [\n",
    "    'NHOHCount', 'BCUT2D_MWLOW', 'MolLogP', 'PEOE_VSA6', 'Kappa3', 'Kappa1',\n",
    "    'BCUT2D_MRLOW', 'Kappa2', 'VSA_EState8', 'PEOE_VSA7', 'EState_VSA3', 'AvgIpc',\n",
    "    'VSA_EState4', 'fr_C_O', 'SPS', 'BCUT2D_CHGLO', 'EState_VSA8',\n",
    "    'VSA_EState3', 'NumHDonors', 'VSA_EState6'\n",
    "]\n",
    "X = X_full[top_20_features]\n",
    "\n",
    "# --- Обучение моделей ---\n",
    "rf_model = RandomForestRegressor(\n",
    "    n_estimators=300,\n",
    "    max_depth=20,\n",
    "    min_samples_split=10,\n",
    "    min_samples_leaf=1,\n",
    "    max_features='log2',\n",
    "    random_state=42,\n",
    "    n_jobs=-1\n",
    ")\n",
    "\n",
    "xgb_model = xgb.XGBRegressor(\n",
    "    n_estimators=400,\n",
    "    learning_rate=0.01,\n",
    "    max_depth=6,\n",
    "    subsample=0.6,\n",
    "    colsample_bytree=0.8,\n",
    "    reg_alpha=0,\n",
    "    reg_lambda=0.5,\n",
    "    min_child_weight=5,\n",
    "    objective='reg:squarederror',\n",
    "    random_state=42,\n",
    "    n_jobs=-1\n",
    ")\n",
    "\n",
    "ensemble = VotingRegressor(estimators=[\n",
    "    (\"xgb\", xgb_model),\n",
    "    (\"rf\", rf_model)\n",
    "], n_jobs=-1)\n",
    "\n",
    "# --- Кросс-валидация ---\n",
    "cv = KFold(n_splits=5, shuffle=True, random_state=42)\n",
    "y_pred = cross_val_predict(ensemble, X, y, cv=cv)\n",
    "rmse = np.sqrt(mean_squared_error(y, y_pred))\n",
    "r2 = r2_score(y, y_pred)\n",
    "\n",
    "print(\"\\nVotingRegressor (RF + XGB):\")\n",
    "print(f\"  RMSE = {rmse:.3f}\")\n",
    "print(f\"  R²   = {r2:.3f}\")\n",
    "\n",
    "# --- Сохранение модели ---\n",
    "ensemble.fit(X, y)\n",
    "joblib.dump(ensemble, \"final_voting_model_y_si.joblib\")\n"
   ]
  }
 ],
 "metadata": {
  "kernelspec": {
   "display_name": "base",
   "language": "python",
   "name": "python3"
  },
  "language_info": {
   "codemirror_mode": {
    "name": "ipython",
    "version": 3
   },
   "file_extension": ".py",
   "mimetype": "text/x-python",
   "name": "python",
   "nbconvert_exporter": "python",
   "pygments_lexer": "ipython3",
   "version": "3.12.7"
  }
 },
 "nbformat": 4,
 "nbformat_minor": 5
}
