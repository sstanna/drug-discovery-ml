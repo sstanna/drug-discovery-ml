{
 "cells": [
  {
   "cell_type": "code",
   "execution_count": 1,
   "id": "82764c8a",
   "metadata": {},
   "outputs": [
    {
     "name": "stdout",
     "output_type": "stream",
     "text": [
      "[LightGBM] [Info] Auto-choosing col-wise multi-threading, the overhead of testing was 0.006354 seconds.\n",
      "You can set `force_col_wise=true` to remove the overhead.\n",
      "[LightGBM] [Info] Total Bins 17633\n",
      "[LightGBM] [Info] Number of data points in the train set: 800, number of used features: 169\n",
      "[LightGBM] [Info] Start training from score 3.940505\n",
      "LightGBM (FLAML best config) Results:\n",
      "RMSE = 1.415\n",
      "R²   = 0.480\n",
      "Модель сохранена в: best_lgbm_model.pkl\n"
     ]
    },
    {
     "name": "stderr",
     "output_type": "stream",
     "text": [
      "c:\\Users\\mikha\\anaconda3\\Lib\\site-packages\\joblib\\externals\\loky\\backend\\context.py:136: UserWarning: Could not find the number of physical cores for the following reason:\n",
      "[WinError 2] The system cannot find the file specified\n",
      "Returning the number of logical cores instead. You can silence this warning by setting LOKY_MAX_CPU_COUNT to the number of cores you want to use.\n",
      "  warnings.warn(\n",
      "  File \"c:\\Users\\mikha\\anaconda3\\Lib\\site-packages\\joblib\\externals\\loky\\backend\\context.py\", line 257, in _count_physical_cores\n",
      "    cpu_info = subprocess.run(\n",
      "               ^^^^^^^^^^^^^^^\n",
      "  File \"c:\\Users\\mikha\\anaconda3\\Lib\\subprocess.py\", line 548, in run\n",
      "    with Popen(*popenargs, **kwargs) as process:\n",
      "         ^^^^^^^^^^^^^^^^^^^^^^^^^^^\n",
      "  File \"c:\\Users\\mikha\\anaconda3\\Lib\\subprocess.py\", line 1026, in __init__\n",
      "    self._execute_child(args, executable, preexec_fn, close_fds,\n",
      "  File \"c:\\Users\\mikha\\anaconda3\\Lib\\subprocess.py\", line 1538, in _execute_child\n",
      "    hp, ht, pid, tid = _winapi.CreateProcess(executable, args,\n",
      "                       ^^^^^^^^^^^^^^^^^^^^^^^^^^^^^^^^^^^^^^^\n"
     ]
    }
   ],
   "source": [
    "import os\n",
    "import sys\n",
    "import numpy as np\n",
    "import joblib\n",
    "from sklearn.model_selection import train_test_split\n",
    "from sklearn.metrics import mean_squared_error, r2_score\n",
    "from lightgbm import LGBMRegressor\n",
    "\n",
    "# Установка пути к проекту (если utils в корне проекта)\n",
    "project_root = os.path.abspath(os.path.join(os.getcwd(), '..'))\n",
    "if project_root not in sys.path:\n",
    "    sys.path.append(project_root)\n",
    "\n",
    "# Загрузка и подготовка данных\n",
    "from utils.prepare_data import load_and_prepare_data\n",
    "\n",
    "data = load_and_prepare_data()\n",
    "X = data['X']\n",
    "y = data['y_ic50']  # лог-преобразованная целевая переменная\n",
    "\n",
    "# Деление на обучающую и тестовую выборки\n",
    "X_train, X_test, y_train, y_test = train_test_split(\n",
    "    X, y, test_size=0.2, random_state=42\n",
    ")\n",
    "\n",
    "# Обучение LightGBM с лучшими параметрами от FLAML\n",
    "model = LGBMRegressor(\n",
    "    n_estimators=113,\n",
    "    num_leaves=9,\n",
    "    min_child_samples=19,\n",
    "    learning_rate=0.0663,\n",
    "    max_bin=511,  # из log_max_bin=9\n",
    "    colsample_bytree=0.7646,\n",
    "    reg_alpha=0.3551,\n",
    "    reg_lambda=0.0539,\n",
    "    random_state=42\n",
    ")\n",
    "\n",
    "model.fit(X_train, y_train)\n",
    "\n",
    "# Предсказания и метрики\n",
    "preds = model.predict(X_test)\n",
    "rmse = np.sqrt(mean_squared_error(y_test, preds))\n",
    "r2 = r2_score(y_test, preds)\n",
    "\n",
    "print(\"LightGBM (FLAML best config) Results:\")\n",
    "print(f\"RMSE = {rmse:.3f}\")\n",
    "print(f\"R²   = {r2:.3f}\")\n",
    "\n",
    "# Сохранение модели\n",
    "model_path = \"best_lgbm_model.pkl\"\n",
    "joblib.dump(model, model_path)\n",
    "print(f\"Модель сохранена в: {model_path}\")\n"
   ]
  }
 ],
 "metadata": {
  "kernelspec": {
   "display_name": "base",
   "language": "python",
   "name": "python3"
  },
  "language_info": {
   "codemirror_mode": {
    "name": "ipython",
    "version": 3
   },
   "file_extension": ".py",
   "mimetype": "text/x-python",
   "name": "python",
   "nbconvert_exporter": "python",
   "pygments_lexer": "ipython3",
   "version": "3.12.7"
  }
 },
 "nbformat": 4,
 "nbformat_minor": 5
}
