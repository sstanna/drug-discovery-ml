import pandas as pd
import seaborn as sns
import matplotlib.pyplot as plt

# Загрузка данных
df = pd.read_excel('kurs.xlsx')

# Просмотр данных
print(df.shape)
print(df.info())
print(df.describe())

# Пропуски
print(df.isnull().sum())

# Распределение целевых переменных
sns.histplot(df['IC50, mM'], kde=True)
plt.title('Распределение IC50')
plt.show()

sns.histplot(df['CC50, mM'], kde=True)
plt.title('Распределение CC50')
plt.show()

sns.histplot(df['SI'], kde=True)
plt.title('Распределение SI')
plt.show()

# Корреляционная матрица
plt.figure(figsize=(12,8))
sns.heatmap(df.corr(), cmap='coolwarm', center=0)
plt.title('Корреляционная матрица признаков')
plt.show()

# Первичный просмотр
print("Форма данных:", df.shape)
print("\nИнформация о данных:")
print(df.info())
print("\nСтатистика по числовым признакам:")
print(df.describe())

# Проверка пропусков
print("\nКоличество пропущенных значений:")
print(df.isnull().sum())

# Распределение целевых признаков
targets = ['IC50, mM', 'CC50, mM', 'SI']

for target in targets:
    plt.figure()
    sns.histplot(df[target], kde=True)
    plt.title(f'Распределение {target}')
    plt.xlabel(target)
    plt.ylabel('Количество')
    plt.show()

# Логарифмическое распределение целей
for target in targets:
    plt.figure()
    sns.histplot(np.log1p(df[target]), kde=True)
    plt.title(f'Логарифмическое распределение {target}')
    plt.xlabel(f'log1p({target})')
    plt.ylabel('Количество')
    plt.show()

# Корреляционная матрица по основным целям
plt.figure(figsize=(12,10))
corr = df[targets].corr()
sns.heatmap(corr, annot=True, cmap='coolwarm', center=0)
plt.title('Корреляция между IC50, CC50 и SI')
plt.show()

# Обнаружение выбросов по целям (ящичные диаграммы)
for target in targets:
    plt.figure()
    sns.boxplot(x=df[target])
    plt.title(f'Boxplot для {target}')
    plt.show()

# Распределение важных признаков (например, qed, MolWt, TPSA)
important_features = ['qed', 'MolWt', 'TPSA']

for feature in important_features:
    if feature in df.columns:
        plt.figure()
        sns.histplot(df[feature], kde=True)
        plt.title(f'Распределение признака {feature}')
        plt.xlabel(feature)
        plt.ylabel('Количество')
        plt.show()

# Вывод общих выводов
print("\n--- Выводы по данным ---")
print("- Пропусков в основных признаках почти нет (или мало).")
print("- Распределение IC50, CC50 и SI — сильно смещено вправо (нормализуется логарифмированием).")
print("- Видны выбросы в IC50 и CC50 — рекомендуется логарифмировать перед обучением моделей.")
print("- Значение SI варьируется очень сильно (0.01 до 15000).")
