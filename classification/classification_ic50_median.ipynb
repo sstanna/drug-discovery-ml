{
 "cells": [
  {
   "cell_type": "code",
   "execution_count": null,
   "id": "954cf077",
   "metadata": {},
   "outputs": [],
   "source": [
    "from utils.prepare_data import load_and_prepare_data\n",
    "from sklearn.model_selection import train_test_split\n",
    "from sklearn.metrics import classification_report, roc_auc_score, confusion_matrix\n",
    "from sklearn.ensemble import RandomForestClassifier, GradientBoostingClassifier\n",
    "from sklearn.linear_model import LogisticRegression\n",
    "\n",
    "# Загрузка\n",
    "data = load_and_prepare_data()\n",
    "X = data['X']\n",
    "y = data['cls_ic50_median']  # бинарная цель\n",
    "\n",
    "X_train, X_test, y_train, y_test = train_test_split(X, y, random_state=42)\n",
    "\n",
    "# Модели\n",
    "models = {\n",
    "    \"LogReg\": LogisticRegression(max_iter=1000),\n",
    "    \"RandomForest\": RandomForestClassifier(),\n",
    "    \"GradientBoosting\": GradientBoostingClassifier()\n",
    "}\n",
    "\n",
    "for name, model in models.items():\n",
    "    model.fit(X_train, y_train)\n",
    "    y_pred = model.predict(X_test)\n",
    "    y_prob = model.predict_proba(X_test)[:,1]\n",
    "    \n",
    "    print(f\"\\n{name}\")\n",
    "    print(classification_report(y_test, y_pred))\n",
    "    print(\"ROC-AUC:\", roc_auc_score(y_test, y_prob))\n",
    "    print(\"Confusion matrix:\\n\", confusion_matrix(y_test, y_pred))\n"
   ]
  }
 ],
 "metadata": {
  "kernelspec": {
   "display_name": "Python 3",
   "language": "python",
   "name": "python3"
  },
  "language_info": {
   "codemirror_mode": {
    "name": "ipython",
    "version": 3
   },
   "file_extension": ".py",
   "mimetype": "text/x-python",
   "name": "python",
   "nbconvert_exporter": "python",
   "pygments_lexer": "ipython3",
   "version": "3.7.16"
  }
 },
 "nbformat": 4,
 "nbformat_minor": 5
}
