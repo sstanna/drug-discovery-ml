{
 "cells": [
  {
   "cell_type": "code",
   "execution_count": 1,
   "id": "954cf077",
   "metadata": {},
   "outputs": [
    {
     "name": "stdout",
     "output_type": "stream",
     "text": [
      "\n",
      "LogReg\n",
      "              precision    recall  f1-score   support\n",
      "\n",
      "           0       0.00      0.00      0.00       124\n",
      "           1       0.51      1.00      0.67       127\n",
      "\n",
      "    accuracy                           0.51       251\n",
      "   macro avg       0.25      0.50      0.34       251\n",
      "weighted avg       0.26      0.51      0.34       251\n",
      "\n",
      "ROC-AUC: 0.4687261874523749\n",
      "Confusion matrix:\n",
      " [[  0 124]\n",
      " [  0 127]]\n"
     ]
    },
    {
     "name": "stderr",
     "output_type": "stream",
     "text": [
      "c:\\Users\\mikha\\anaconda3\\Lib\\site-packages\\sklearn\\metrics\\_classification.py:1531: UndefinedMetricWarning: Precision is ill-defined and being set to 0.0 in labels with no predicted samples. Use `zero_division` parameter to control this behavior.\n",
      "  _warn_prf(average, modifier, f\"{metric.capitalize()} is\", len(result))\n",
      "c:\\Users\\mikha\\anaconda3\\Lib\\site-packages\\sklearn\\metrics\\_classification.py:1531: UndefinedMetricWarning: Precision is ill-defined and being set to 0.0 in labels with no predicted samples. Use `zero_division` parameter to control this behavior.\n",
      "  _warn_prf(average, modifier, f\"{metric.capitalize()} is\", len(result))\n",
      "c:\\Users\\mikha\\anaconda3\\Lib\\site-packages\\sklearn\\metrics\\_classification.py:1531: UndefinedMetricWarning: Precision is ill-defined and being set to 0.0 in labels with no predicted samples. Use `zero_division` parameter to control this behavior.\n",
      "  _warn_prf(average, modifier, f\"{metric.capitalize()} is\", len(result))\n"
     ]
    },
    {
     "name": "stdout",
     "output_type": "stream",
     "text": [
      "\n",
      "RandomForest\n",
      "              precision    recall  f1-score   support\n",
      "\n",
      "           0       0.70      0.73      0.72       124\n",
      "           1       0.73      0.69      0.71       127\n",
      "\n",
      "    accuracy                           0.71       251\n",
      "   macro avg       0.71      0.71      0.71       251\n",
      "weighted avg       0.71      0.71      0.71       251\n",
      "\n",
      "ROC-AUC: 0.7788608077216155\n",
      "Confusion matrix:\n",
      " [[91 33]\n",
      " [39 88]]\n",
      "\n",
      "GradientBoosting\n",
      "              precision    recall  f1-score   support\n",
      "\n",
      "           0       0.69      0.69      0.69       124\n",
      "           1       0.70      0.70      0.70       127\n",
      "\n",
      "    accuracy                           0.70       251\n",
      "   macro avg       0.70      0.70      0.70       251\n",
      "weighted avg       0.70      0.70      0.70       251\n",
      "\n",
      "ROC-AUC: 0.7787973075946152\n",
      "Confusion matrix:\n",
      " [[86 38]\n",
      " [38 89]]\n"
     ]
    }
   ],
   "source": [
    "import os\n",
    "import sys\n",
    "\n",
    "# Set the working directory to the project root\n",
    "project_root = os.path.abspath(os.path.join(os.getcwd(), '..'))\n",
    "if project_root not in sys.path:\n",
    "    sys.path.append(project_root)\n",
    "\n",
    "from utils.prepare_data import load_and_prepare_data\n",
    "from sklearn.model_selection import train_test_split\n",
    "from sklearn.metrics import classification_report, roc_auc_score, confusion_matrix\n",
    "from sklearn.ensemble import RandomForestClassifier, GradientBoostingClassifier\n",
    "from sklearn.linear_model import LogisticRegression\n",
    "\n",
    "# Загрузка\n",
    "data = load_and_prepare_data()\n",
    "X = data['X']\n",
    "y = data['cls_ic50_median']  # бинарная цель\n",
    "\n",
    "X_train, X_test, y_train, y_test = train_test_split(X, y, random_state=42)\n",
    "\n",
    "# Модели\n",
    "models = {\n",
    "    \"LogReg\": LogisticRegression(max_iter=1000),\n",
    "    \"RandomForest\": RandomForestClassifier(),\n",
    "    \"GradientBoosting\": GradientBoostingClassifier()\n",
    "}\n",
    "\n",
    "for name, model in models.items():\n",
    "    model.fit(X_train, y_train)\n",
    "    y_pred = model.predict(X_test)\n",
    "    y_prob = model.predict_proba(X_test)[:,1]\n",
    "    \n",
    "    print(f\"\\n{name}\")\n",
    "    print(classification_report(y_test, y_pred))\n",
    "    print(\"ROC-AUC:\", roc_auc_score(y_test, y_prob))\n",
    "    print(\"Confusion matrix:\\n\", confusion_matrix(y_test, y_pred))\n"
   ]
  }
 ],
 "metadata": {
  "kernelspec": {
   "display_name": "base",
   "language": "python",
   "name": "python3"
  },
  "language_info": {
   "codemirror_mode": {
    "name": "ipython",
    "version": 3
   },
   "file_extension": ".py",
   "mimetype": "text/x-python",
   "name": "python",
   "nbconvert_exporter": "python",
   "pygments_lexer": "ipython3",
   "version": "3.12.7"
  }
 },
 "nbformat": 4,
 "nbformat_minor": 5
}
